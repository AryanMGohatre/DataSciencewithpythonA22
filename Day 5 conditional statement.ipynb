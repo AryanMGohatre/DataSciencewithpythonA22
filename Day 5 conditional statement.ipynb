{
 "cells": [
  {
   "cell_type": "markdown",
   "id": "6102ac79",
   "metadata": {},
   "source": [
    "#  Conditional statements"
   ]
  },
  {
   "cell_type": "markdown",
   "id": "a5bd2fc2",
   "metadata": {},
   "source": [
    "1. if \n",
    "2. if else\n",
    "3. nested if \n",
    "4. ladder if "
   ]
  },
  {
   "cell_type": "code",
   "execution_count": 1,
   "id": "48444f82",
   "metadata": {},
   "outputs": [],
   "source": [
    "# simple if\n",
    "a=5\n",
    "b=3\n",
    "if(a>b):\n",
    "    print(\" a is greater than b\")"
   ]
  },
  {
   "cell_type": "code",
   "execution_count": 2,
   "id": "ee8fafba",
   "metadata": {},
   "outputs": [
    {
     "name": "stdout",
     "output_type": "stream",
     "text": [
      " Enter your roll no. \n",
      "Aryan4\n",
      "4\n"
     ]
    }
   ],
   "source": [
    "print(\" Enter your roll no. \")\n",
    "x=input('Aryan')\n",
    "print (x)"
   ]
  },
  {
   "cell_type": "code",
   "execution_count": 4,
   "id": "60d7996c",
   "metadata": {},
   "outputs": [
    {
     "name": "stdout",
     "output_type": "stream",
     "text": [
      "b is greater than a\n"
     ]
    }
   ],
   "source": [
    "# if else\n",
    "a=5\n",
    "b=3\n",
    "if (a<b):\n",
    "    print(\"a is greater than b\")\n",
    "else:\n",
    "    print(\"b is greater than a\")"
   ]
  },
  {
   "cell_type": "code",
   "execution_count": 8,
   "id": "726df063",
   "metadata": {},
   "outputs": [
    {
     "name": "stdout",
     "output_type": "stream",
     "text": [
      " enter the value of a \n",
      "None7\n",
      " enter the value of a \n",
      "None4\n",
      "a is greater than b 7\n"
     ]
    }
   ],
   "source": [
    "a=int(input(print(\" enter the value of a \")))\n",
    "b=int(input(print(\" enter the value of a \")))\n",
    "if (a>b):\n",
    "    print(\"a is greater than b\",a)\n",
    "else:\n",
    "    print(\"b is greater than a\",b)"
   ]
  },
  {
   "cell_type": "code",
   "execution_count": null,
   "id": "b26b918b",
   "metadata": {},
   "outputs": [],
   "source": []
  }
 ],
 "metadata": {
  "kernelspec": {
   "display_name": "Python 3 (ipykernel)",
   "language": "python",
   "name": "python3"
  },
  "language_info": {
   "codemirror_mode": {
    "name": "ipython",
    "version": 3
   },
   "file_extension": ".py",
   "mimetype": "text/x-python",
   "name": "python",
   "nbconvert_exporter": "python",
   "pygments_lexer": "ipython3",
   "version": "3.10.9"
  }
 },
 "nbformat": 4,
 "nbformat_minor": 5
}
