{
 "cells": [
  {
   "cell_type": "markdown",
   "id": "00346327",
   "metadata": {},
   "source": [
    "# Dictionary"
   ]
  },
  {
   "cell_type": "markdown",
   "id": "0ad80782",
   "metadata": {},
   "source": [
    "Dictionary is a part of data structure\n"
   ]
  },
  {
   "cell_type": "code",
   "execution_count": 2,
   "id": "79426346",
   "metadata": {},
   "outputs": [
    {
     "data": {
      "text/plain": [
       "dict"
      ]
     },
     "execution_count": 2,
     "metadata": {},
     "output_type": "execute_result"
    }
   ],
   "source": [
    "D={\"Aryan\":10,\"Durgesh\":20,\"Sushant\":30,\"Prathmesh\":40}\n",
    "type(D)"
   ]
  },
  {
   "cell_type": "code",
   "execution_count": 3,
   "id": "51a4c93c",
   "metadata": {},
   "outputs": [
    {
     "data": {
      "text/plain": [
       "4"
      ]
     },
     "execution_count": 3,
     "metadata": {},
     "output_type": "execute_result"
    }
   ],
   "source": [
    "D={\"Aryan\":10,\"Durgesh\":20,\"Sushant\":30,\"Prathmesh\":40}\n",
    "len(D)"
   ]
  },
  {
   "cell_type": "code",
   "execution_count": 4,
   "id": "c5d1b8eb",
   "metadata": {},
   "outputs": [
    {
     "name": "stdout",
     "output_type": "stream",
     "text": [
      "{'Aryan': 10, 'Durgesh': 20, 'Sushant': 30, 'Prathmesh': 40}\n"
     ]
    }
   ],
   "source": [
    "D={\"Aryan\":10,\"Durgesh\":20,\"Sushant\":30,\"Prathmesh\":40}\n",
    "print(D)"
   ]
  },
  {
   "cell_type": "code",
   "execution_count": 5,
   "id": "2da4d215",
   "metadata": {},
   "outputs": [
    {
     "data": {
      "text/plain": [
       "{'Aryan': 10, 'Durgesh': 20, 'Sushant': 30, 'Prathmesh': 40}"
      ]
     },
     "execution_count": 5,
     "metadata": {},
     "output_type": "execute_result"
    }
   ],
   "source": [
    "D={\"Aryan\":10,\"Durgesh\":20,\"Sushant\":30,\"Prathmesh\":40}\n",
    "D"
   ]
  },
  {
   "cell_type": "code",
   "execution_count": 6,
   "id": "1d4d78b2",
   "metadata": {},
   "outputs": [
    {
     "data": {
      "text/plain": [
       "dict_keys(['Aryan', 'Durgesh', 'Sushant', 'Prathmesh'])"
      ]
     },
     "execution_count": 6,
     "metadata": {},
     "output_type": "execute_result"
    }
   ],
   "source": [
    "D={\"Aryan\":10,\"Durgesh\":20,\"Sushant\":30,\"Prathmesh\":40}\n",
    "D.keys()"
   ]
  },
  {
   "cell_type": "code",
   "execution_count": 7,
   "id": "b9cf5e0b",
   "metadata": {},
   "outputs": [
    {
     "data": {
      "text/plain": [
       "dict_keys(['Aryan', 'Durgesh', 'Sushant', 'Prathmesh'])"
      ]
     },
     "execution_count": 7,
     "metadata": {},
     "output_type": "execute_result"
    }
   ],
   "source": [
    "# Extracting the keys from dictionary\n",
    "D={\"Aryan\":10,\"Durgesh\":20,\"Sushant\":30,\"Prathmesh\":40}\n",
    "D.keys()"
   ]
  },
  {
   "cell_type": "code",
   "execution_count": 8,
   "id": "532d311b",
   "metadata": {},
   "outputs": [
    {
     "data": {
      "text/plain": [
       "dict_values([10, 20, 30, 40])"
      ]
     },
     "execution_count": 8,
     "metadata": {},
     "output_type": "execute_result"
    }
   ],
   "source": [
    "D={\"Aryan\":10,\"Durgesh\":20,\"Sushant\":30,\"Prathmesh\":40}\n",
    "D.values()"
   ]
  },
  {
   "cell_type": "code",
   "execution_count": 9,
   "id": "589c6cf7",
   "metadata": {},
   "outputs": [
    {
     "name": "stdout",
     "output_type": "stream",
     "text": [
      "{'Aryan': 10, 'Durgesh': 20, 'Sushant': 30, 'Prathmesh': 40, 'Salman': 50}\n"
     ]
    }
   ],
   "source": [
    "# Adding a new element to python dictionary\n",
    "D={\"Aryan\":10,\"Durgesh\":20,\"Sushant\":30,\"Prathmesh\":40}\n",
    "D[\"Salman\"]=50\n",
    "print(D)"
   ]
  },
  {
   "cell_type": "code",
   "execution_count": 10,
   "id": "516ca16d",
   "metadata": {},
   "outputs": [
    {
     "name": "stdout",
     "output_type": "stream",
     "text": [
      "{'Aryan': 100, 'Durgesh': 20, 'Sushant': 30, 'Prathmesh': 40}\n"
     ]
    }
   ],
   "source": [
    "# Changing an existing element to python dictionary\n",
    "D={\"Aryan\":10,\"Durgesh\":20,\"Sushant\":30,\"Prathmesh\":40}\n",
    "D[\"Aryan\"]=100\n",
    "print(D)"
   ]
  },
  {
   "cell_type": "code",
   "execution_count": 11,
   "id": "1a582412",
   "metadata": {},
   "outputs": [
    {
     "name": "stdout",
     "output_type": "stream",
     "text": [
      "{'aryan': 10, 'yash': 20, 'parth': 30, 'jay': 40}\n"
     ]
    }
   ],
   "source": [
    "# Update one dictionary element with another dictionary\n",
    "D1={\"aryan\":10,\"yash\":20}\n",
    "D2={\"parth\":30,\"jay\":40}\n",
    "D1.update(D2)\n",
    "print(D1)"
   ]
  },
  {
   "cell_type": "code",
   "execution_count": 12,
   "id": "bae04a25",
   "metadata": {},
   "outputs": [
    {
     "data": {
      "text/plain": [
       "{'Aryan': 10, 'Sushant': 30, 'Prathmesh': 40}"
      ]
     },
     "execution_count": 12,
     "metadata": {},
     "output_type": "execute_result"
    }
   ],
   "source": [
    "D={\"Aryan\":10,\"Durgesh\":20,\"Sushant\":30,\"Prathmesh\":40}\n",
    "D.pop(\"Durgesh\")\n",
    "D"
   ]
  },
  {
   "cell_type": "code",
   "execution_count": null,
   "id": "6dcff200",
   "metadata": {},
   "outputs": [],
   "source": []
  }
 ],
 "metadata": {
  "kernelspec": {
   "display_name": "Python 3 (ipykernel)",
   "language": "python",
   "name": "python3"
  },
  "language_info": {
   "codemirror_mode": {
    "name": "ipython",
    "version": 3
   },
   "file_extension": ".py",
   "mimetype": "text/x-python",
   "name": "python",
   "nbconvert_exporter": "python",
   "pygments_lexer": "ipython3",
   "version": "3.10.9"
  }
 },
 "nbformat": 4,
 "nbformat_minor": 5
}
