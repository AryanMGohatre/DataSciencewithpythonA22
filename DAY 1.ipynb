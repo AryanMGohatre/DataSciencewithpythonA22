{
 "cells": [
  {
   "cell_type": "code",
   "execution_count": 1,
   "id": "4dd510a8",
   "metadata": {},
   "outputs": [],
   "source": [
    "a=10"
   ]
  },
  {
   "cell_type": "code",
   "execution_count": 2,
   "id": "4bfbc739",
   "metadata": {},
   "outputs": [
    {
     "name": "stdout",
     "output_type": "stream",
     "text": [
      "10\n"
     ]
    }
   ],
   "source": [
    "print(a)"
   ]
  },
  {
   "cell_type": "code",
   "execution_count": 2,
   "id": "03b01d34",
   "metadata": {},
   "outputs": [],
   "source": [
    "a=20\n",
    "# a=variable \n",
    "# = assignment\n",
    "# 20= data"
   ]
  },
  {
   "cell_type": "code",
   "execution_count": 3,
   "id": "75d7b237",
   "metadata": {},
   "outputs": [
    {
     "data": {
      "text/plain": [
       "20"
      ]
     },
     "execution_count": 3,
     "metadata": {},
     "output_type": "execute_result"
    }
   ],
   "source": [
    "a"
   ]
  },
  {
   "cell_type": "code",
   "execution_count": 4,
   "id": "99d2b3fb",
   "metadata": {},
   "outputs": [
    {
     "name": "stdout",
     "output_type": "stream",
     "text": [
      "20\n"
     ]
    }
   ],
   "source": [
    "print(a)"
   ]
  },
  {
   "cell_type": "code",
   "execution_count": 5,
   "id": "76206d1d",
   "metadata": {},
   "outputs": [],
   "source": [
    "A=100"
   ]
  },
  {
   "cell_type": "code",
   "execution_count": 6,
   "id": "6b537019",
   "metadata": {},
   "outputs": [
    {
     "name": "stdout",
     "output_type": "stream",
     "text": [
      "100\n"
     ]
    }
   ],
   "source": [
    "print(A)"
   ]
  },
  {
   "cell_type": "code",
   "execution_count": 8,
   "id": "6106d14d",
   "metadata": {},
   "outputs": [],
   "source": [
    "a=\" wick \"\n",
    "a=' wick '\n",
    "a='''wick'''"
   ]
  },
  {
   "cell_type": "code",
   "execution_count": 9,
   "id": "b90b937d",
   "metadata": {},
   "outputs": [
    {
     "data": {
      "text/plain": [
       "'wick'"
      ]
     },
     "execution_count": 9,
     "metadata": {},
     "output_type": "execute_result"
    }
   ],
   "source": [
    "a"
   ]
  },
  {
   "cell_type": "code",
   "execution_count": 10,
   "id": "b65e8088",
   "metadata": {},
   "outputs": [],
   "source": [
    "a='aryan'\n",
    "b='gohatre'"
   ]
  },
  {
   "cell_type": "code",
   "execution_count": 11,
   "id": "7d5d302d",
   "metadata": {},
   "outputs": [],
   "source": [
    "c=a+b"
   ]
  },
  {
   "cell_type": "code",
   "execution_count": 12,
   "id": "665ebcd7",
   "metadata": {},
   "outputs": [
    {
     "data": {
      "text/plain": [
       "'aryangohatre'"
      ]
     },
     "execution_count": 12,
     "metadata": {},
     "output_type": "execute_result"
    }
   ],
   "source": [
    "c"
   ]
  },
  {
   "cell_type": "code",
   "execution_count": 13,
   "id": "cf8ee4ee",
   "metadata": {},
   "outputs": [
    {
     "name": "stdout",
     "output_type": "stream",
     "text": [
      "aryan\tgohatre\n"
     ]
    }
   ],
   "source": [
    "print(\"aryan\\tgohatre\")"
   ]
  },
  {
   "cell_type": "code",
   "execution_count": 14,
   "id": "eaf1b4e9",
   "metadata": {},
   "outputs": [
    {
     "name": "stdout",
     "output_type": "stream",
     "text": [
      "aryan\\gohatre\n"
     ]
    }
   ],
   "source": [
    "print(\"aryan\\gohatre\")"
   ]
  },
  {
   "cell_type": "code",
   "execution_count": 15,
   "id": "9c928c33",
   "metadata": {},
   "outputs": [
    {
     "name": "stdout",
     "output_type": "stream",
     "text": [
      "aryan\\gohatre\n"
     ]
    }
   ],
   "source": [
    "print('aryan\\gohatre')"
   ]
  },
  {
   "cell_type": "code",
   "execution_count": null,
   "id": "b6700fcf",
   "metadata": {},
   "outputs": [],
   "source": []
  },
  {
   "cell_type": "code",
   "execution_count": 16,
   "id": "d544644d",
   "metadata": {},
   "outputs": [
    {
     "name": "stdout",
     "output_type": "stream",
     "text": [
      "aryan\tgohatre\n"
     ]
    }
   ],
   "source": [
    "print('aryan\\tgohatre')"
   ]
  },
  {
   "cell_type": "code",
   "execution_count": 17,
   "id": "1e95987a",
   "metadata": {},
   "outputs": [
    {
     "name": "stdout",
     "output_type": "stream",
     "text": [
      "aryan\n",
      "gohatre\n"
     ]
    }
   ],
   "source": [
    "print('aryan\\ngohatre')"
   ]
  },
  {
   "cell_type": "code",
   "execution_count": 18,
   "id": "8600a967",
   "metadata": {},
   "outputs": [],
   "source": [
    "a=20"
   ]
  },
  {
   "cell_type": "code",
   "execution_count": 19,
   "id": "b87489f7",
   "metadata": {},
   "outputs": [
    {
     "data": {
      "text/plain": [
       "int"
      ]
     },
     "execution_count": 19,
     "metadata": {},
     "output_type": "execute_result"
    }
   ],
   "source": [
    "type(a)"
   ]
  },
  {
   "cell_type": "code",
   "execution_count": 20,
   "id": "a7153079",
   "metadata": {},
   "outputs": [],
   "source": [
    "a=\"aryan\""
   ]
  },
  {
   "cell_type": "code",
   "execution_count": 21,
   "id": "b95b2d35",
   "metadata": {},
   "outputs": [
    {
     "data": {
      "text/plain": [
       "str"
      ]
     },
     "execution_count": 21,
     "metadata": {},
     "output_type": "execute_result"
    }
   ],
   "source": [
    "type(a)"
   ]
  },
  {
   "cell_type": "code",
   "execution_count": null,
   "id": "7b8a1ed5",
   "metadata": {},
   "outputs": [],
   "source": []
  }
 ],
 "metadata": {
  "kernelspec": {
   "display_name": "Python 3 (ipykernel)",
   "language": "python",
   "name": "python3"
  },
  "language_info": {
   "codemirror_mode": {
    "name": "ipython",
    "version": 3
   },
   "file_extension": ".py",
   "mimetype": "text/x-python",
   "name": "python",
   "nbconvert_exporter": "python",
   "pygments_lexer": "ipython3",
   "version": "3.10.9"
  }
 },
 "nbformat": 4,
 "nbformat_minor": 5
}
